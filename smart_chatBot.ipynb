{
  "nbformat": 4,
  "nbformat_minor": 0,
  "metadata": {
    "colab": {
      "name": "smart_chatBot.ipynb",
      "provenance": [],
      "authorship_tag": "ABX9TyNRHTCBrrSfRCKff6axFHar",
      "include_colab_link": true
    },
    "kernelspec": {
      "name": "python3",
      "display_name": "Python 3"
    }
  },
  "cells": [
    {
      "cell_type": "markdown",
      "metadata": {
        "id": "view-in-github",
        "colab_type": "text"
      },
      "source": [
        "<a href=\"https://colab.research.google.com/github/bagariya-yogesh/chatbot/blob/master/smart_chatBot.ipynb\" target=\"_parent\"><img src=\"https://colab.research.google.com/assets/colab-badge.svg\" alt=\"Open In Colab\"/></a>"
      ]
    },
    {
      "cell_type": "code",
      "metadata": {
        "id": "dcbMS9Ocd4RQ",
        "colab_type": "code",
        "colab": {}
      },
      "source": [
        "# Description: Building a 'smart' chatbot"
      ],
      "execution_count": 1,
      "outputs": []
    },
    {
      "cell_type": "code",
      "metadata": {
        "id": "94YLTe0Fd_zD",
        "colab_type": "code",
        "colab": {
          "base_uri": "https://localhost:8080/",
          "height": 51
        },
        "outputId": "7fd7489c-a01a-4b37-9992-2a4c4c544f88"
      },
      "source": [
        "pip install nltk"
      ],
      "execution_count": 2,
      "outputs": [
        {
          "output_type": "stream",
          "text": [
            "Requirement already satisfied: nltk in /usr/local/lib/python3.6/dist-packages (3.2.5)\n",
            "Requirement already satisfied: six in /usr/local/lib/python3.6/dist-packages (from nltk) (1.12.0)\n"
          ],
          "name": "stdout"
        }
      ]
    },
    {
      "cell_type": "code",
      "metadata": {
        "id": "X2uYSTSYeH3g",
        "colab_type": "code",
        "colab": {
          "base_uri": "https://localhost:8080/",
          "height": 870
        },
        "outputId": "667a4318-4426-4fdc-cdc5-e82a483f846c"
      },
      "source": [
        "pip install newspaper3k"
      ],
      "execution_count": 3,
      "outputs": [
        {
          "output_type": "stream",
          "text": [
            "Collecting newspaper3k\n",
            "\u001b[?25l  Downloading https://files.pythonhosted.org/packages/d7/b9/51afecb35bb61b188a4b44868001de348a0e8134b4dfa00ffc191567c4b9/newspaper3k-0.2.8-py3-none-any.whl (211kB)\n",
            "\r\u001b[K     |█▌                              | 10kB 17.8MB/s eta 0:00:01\r\u001b[K     |███                             | 20kB 1.6MB/s eta 0:00:01\r\u001b[K     |████▋                           | 30kB 2.3MB/s eta 0:00:01\r\u001b[K     |██████▏                         | 40kB 2.6MB/s eta 0:00:01\r\u001b[K     |███████▊                        | 51kB 2.0MB/s eta 0:00:01\r\u001b[K     |█████████▎                      | 61kB 2.2MB/s eta 0:00:01\r\u001b[K     |██████████▉                     | 71kB 2.5MB/s eta 0:00:01\r\u001b[K     |████████████▍                   | 81kB 2.7MB/s eta 0:00:01\r\u001b[K     |██████████████                  | 92kB 2.9MB/s eta 0:00:01\r\u001b[K     |███████████████▌                | 102kB 2.8MB/s eta 0:00:01\r\u001b[K     |█████████████████               | 112kB 2.8MB/s eta 0:00:01\r\u001b[K     |██████████████████▋             | 122kB 2.8MB/s eta 0:00:01\r\u001b[K     |████████████████████▏           | 133kB 2.8MB/s eta 0:00:01\r\u001b[K     |█████████████████████▊          | 143kB 2.8MB/s eta 0:00:01\r\u001b[K     |███████████████████████▎        | 153kB 2.8MB/s eta 0:00:01\r\u001b[K     |████████████████████████▉       | 163kB 2.8MB/s eta 0:00:01\r\u001b[K     |██████████████████████████▍     | 174kB 2.8MB/s eta 0:00:01\r\u001b[K     |████████████████████████████    | 184kB 2.8MB/s eta 0:00:01\r\u001b[K     |█████████████████████████████▌  | 194kB 2.8MB/s eta 0:00:01\r\u001b[K     |███████████████████████████████ | 204kB 2.8MB/s eta 0:00:01\r\u001b[K     |████████████████████████████████| 215kB 2.8MB/s \n",
            "\u001b[?25hRequirement already satisfied: PyYAML>=3.11 in /usr/local/lib/python3.6/dist-packages (from newspaper3k) (3.13)\n",
            "Requirement already satisfied: Pillow>=3.3.0 in /usr/local/lib/python3.6/dist-packages (from newspaper3k) (7.0.0)\n",
            "Requirement already satisfied: requests>=2.10.0 in /usr/local/lib/python3.6/dist-packages (from newspaper3k) (2.23.0)\n",
            "Collecting tinysegmenter==0.3\n",
            "  Downloading https://files.pythonhosted.org/packages/17/82/86982e4b6d16e4febc79c2a1d68ee3b707e8a020c5d2bc4af8052d0f136a/tinysegmenter-0.3.tar.gz\n",
            "Collecting jieba3k>=0.35.1\n",
            "\u001b[?25l  Downloading https://files.pythonhosted.org/packages/a9/cb/2c8332bcdc14d33b0bedd18ae0a4981a069c3513e445120da3c3f23a8aaa/jieba3k-0.35.1.zip (7.4MB)\n",
            "\u001b[K     |████████████████████████████████| 7.4MB 7.7MB/s \n",
            "\u001b[?25hCollecting feedfinder2>=0.0.4\n",
            "  Downloading https://files.pythonhosted.org/packages/35/82/1251fefec3bb4b03fd966c7e7f7a41c9fc2bb00d823a34c13f847fd61406/feedfinder2-0.0.4.tar.gz\n",
            "Requirement already satisfied: lxml>=3.6.0 in /usr/local/lib/python3.6/dist-packages (from newspaper3k) (4.2.6)\n",
            "Requirement already satisfied: python-dateutil>=2.5.3 in /usr/local/lib/python3.6/dist-packages (from newspaper3k) (2.8.1)\n",
            "Collecting feedparser>=5.2.1\n",
            "\u001b[?25l  Downloading https://files.pythonhosted.org/packages/91/d8/7d37fec71ff7c9dbcdd80d2b48bcdd86d6af502156fc93846fb0102cb2c4/feedparser-5.2.1.tar.bz2 (192kB)\n",
            "\u001b[K     |████████████████████████████████| 194kB 45.5MB/s \n",
            "\u001b[?25hRequirement already satisfied: beautifulsoup4>=4.4.1 in /usr/local/lib/python3.6/dist-packages (from newspaper3k) (4.6.3)\n",
            "Collecting tldextract>=2.0.1\n",
            "\u001b[?25l  Downloading https://files.pythonhosted.org/packages/fd/0e/9ab599d6e78f0340bb1d1e28ddeacb38c8bb7f91a1b0eae9a24e9603782f/tldextract-2.2.2-py2.py3-none-any.whl (48kB)\n",
            "\u001b[K     |████████████████████████████████| 51kB 6.9MB/s \n",
            "\u001b[?25hRequirement already satisfied: nltk>=3.2.1 in /usr/local/lib/python3.6/dist-packages (from newspaper3k) (3.2.5)\n",
            "Collecting cssselect>=0.9.2\n",
            "  Downloading https://files.pythonhosted.org/packages/3b/d4/3b5c17f00cce85b9a1e6f91096e1cc8e8ede2e1be8e96b87ce1ed09e92c5/cssselect-1.1.0-py2.py3-none-any.whl\n",
            "Requirement already satisfied: chardet<4,>=3.0.2 in /usr/local/lib/python3.6/dist-packages (from requests>=2.10.0->newspaper3k) (3.0.4)\n",
            "Requirement already satisfied: idna<3,>=2.5 in /usr/local/lib/python3.6/dist-packages (from requests>=2.10.0->newspaper3k) (2.9)\n",
            "Requirement already satisfied: urllib3!=1.25.0,!=1.25.1,<1.26,>=1.21.1 in /usr/local/lib/python3.6/dist-packages (from requests>=2.10.0->newspaper3k) (1.24.3)\n",
            "Requirement already satisfied: certifi>=2017.4.17 in /usr/local/lib/python3.6/dist-packages (from requests>=2.10.0->newspaper3k) (2020.6.20)\n",
            "Requirement already satisfied: six in /usr/local/lib/python3.6/dist-packages (from feedfinder2>=0.0.4->newspaper3k) (1.12.0)\n",
            "Collecting requests-file>=1.4\n",
            "  Downloading https://files.pythonhosted.org/packages/77/86/cdb5e8eaed90796aa83a6d9f75cfbd37af553c47a291cd47bc410ef9bdb2/requests_file-1.5.1-py2.py3-none-any.whl\n",
            "Requirement already satisfied: setuptools in /usr/local/lib/python3.6/dist-packages (from tldextract>=2.0.1->newspaper3k) (47.3.1)\n",
            "Building wheels for collected packages: tinysegmenter, jieba3k, feedfinder2, feedparser\n",
            "  Building wheel for tinysegmenter (setup.py) ... \u001b[?25l\u001b[?25hdone\n",
            "  Created wheel for tinysegmenter: filename=tinysegmenter-0.3-cp36-none-any.whl size=13539 sha256=3e84f0abe249146fc36528dbc499498ed4a3b03da32143e24367d61124bee1bb\n",
            "  Stored in directory: /root/.cache/pip/wheels/81/2b/43/a02ede72324dd40cdd7ca53aad718c7710628e91b8b0dc0f02\n",
            "  Building wheel for jieba3k (setup.py) ... \u001b[?25l\u001b[?25hdone\n",
            "  Created wheel for jieba3k: filename=jieba3k-0.35.1-cp36-none-any.whl size=7398406 sha256=ac86373bafe1ff647fd61ec581d822f7162601c84549ca4f8ecf0fd085b67276\n",
            "  Stored in directory: /root/.cache/pip/wheels/83/15/9c/a3f1f67e7f7181170ad37d32e503c35da20627c013f438ed34\n",
            "  Building wheel for feedfinder2 (setup.py) ... \u001b[?25l\u001b[?25hdone\n",
            "  Created wheel for feedfinder2: filename=feedfinder2-0.0.4-cp36-none-any.whl size=3357 sha256=a15031f42346c86e39495c3050078f93f4b7cc587e2823506f781648e687b553\n",
            "  Stored in directory: /root/.cache/pip/wheels/de/03/ca/778e3a7a627e3d98836cc890e7cb40c7575424cfd3340f40ed\n",
            "  Building wheel for feedparser (setup.py) ... \u001b[?25l\u001b[?25hdone\n",
            "  Created wheel for feedparser: filename=feedparser-5.2.1-cp36-none-any.whl size=44940 sha256=cb35099f563364b7a0c61e32940e6b776d68d9471ef5da857ba561db9668eb01\n",
            "  Stored in directory: /root/.cache/pip/wheels/8c/69/b7/f52763c41c5471df57703a0ef718a32a5e81ee35dcf6d4f97f\n",
            "Successfully built tinysegmenter jieba3k feedfinder2 feedparser\n",
            "Installing collected packages: tinysegmenter, jieba3k, feedfinder2, feedparser, requests-file, tldextract, cssselect, newspaper3k\n",
            "Successfully installed cssselect-1.1.0 feedfinder2-0.0.4 feedparser-5.2.1 jieba3k-0.35.1 newspaper3k-0.2.8 requests-file-1.5.1 tinysegmenter-0.3 tldextract-2.2.2\n"
          ],
          "name": "stdout"
        }
      ]
    },
    {
      "cell_type": "code",
      "metadata": {
        "id": "UuOHD3lUezog",
        "colab_type": "code",
        "colab": {}
      },
      "source": [
        "# Import the libraries / dependencies\n",
        "from newspaper import Article\n",
        "import random\n",
        "import string\n",
        "import nltk\n",
        "from sklearn.feature_extraction.text import CountVectorizer\n",
        "from sklearn.metrics.pairwise import cosine_similarity\n",
        "import numpy as np\n",
        "import warnings\n",
        "warnings.filterwarnings('ignore')"
      ],
      "execution_count": 4,
      "outputs": []
    },
    {
      "cell_type": "code",
      "metadata": {
        "id": "xlFPkCw4gSJE",
        "colab_type": "code",
        "colab": {
          "base_uri": "https://localhost:8080/",
          "height": 34
        },
        "outputId": "b205b528-8610-4d78-d0ba-d297f9ce944d"
      },
      "source": [
        "#Download the punkt package\n",
        "nltk.download('punkt', quiet=True)"
      ],
      "execution_count": 5,
      "outputs": [
        {
          "output_type": "execute_result",
          "data": {
            "text/plain": [
              "True"
            ]
          },
          "metadata": {
            "tags": []
          },
          "execution_count": 5
        }
      ]
    },
    {
      "cell_type": "code",
      "metadata": {
        "id": "vqdk3HHZgqJJ",
        "colab_type": "code",
        "colab": {}
      },
      "source": [
        "#Get the article\n",
        "article = Article('https://www.mayoclinic.org/diseases-conditions/chronic-kidney-disease/symptoms-causes/syc-20354521')\n",
        "article.download()\n",
        "article.parse()\n",
        "article.nlp()\n",
        "corpus = article.text"
      ],
      "execution_count": 6,
      "outputs": []
    },
    {
      "cell_type": "code",
      "metadata": {
        "id": "y2jGWpAbhhFL",
        "colab_type": "code",
        "colab": {}
      },
      "source": [
        "print(corpus)"
      ],
      "execution_count": null,
      "outputs": []
    },
    {
      "cell_type": "code",
      "metadata": {
        "id": "NfGKyBehGvnf",
        "colab_type": "code",
        "colab": {}
      },
      "source": [
        "# Tokenization\n",
        "text = corpus\n",
        "sentence_list = nltk.sent_tokenize(text) # Gives a list of sentences"
      ],
      "execution_count": 8,
      "outputs": []
    },
    {
      "cell_type": "code",
      "metadata": {
        "id": "vunCBSVFHMZ9",
        "colab_type": "code",
        "colab": {}
      },
      "source": [
        "# print the text\n",
        "print(sentence_list)"
      ],
      "execution_count": null,
      "outputs": []
    },
    {
      "cell_type": "code",
      "metadata": {
        "id": "RIvMCjqFIDLG",
        "colab_type": "code",
        "colab": {}
      },
      "source": [
        "def greeting_response(text):\n",
        "    text = text.lower()\n",
        "    # Greeting Response\n",
        "    bot_greetings = ['hey', 'hello', 'hi', 'hola']\n",
        "    user_greetings = ['hey', 'hello', 'hi', 'hola', 'greetings', 'wassup']\n",
        "\n",
        "    for word in text.split():\n",
        "        if word in user_greetings:\n",
        "            return random.choice(bot_greetings)\n"
      ],
      "execution_count": 10,
      "outputs": []
    },
    {
      "cell_type": "code",
      "metadata": {
        "id": "PVIlPycJNDLa",
        "colab_type": "code",
        "colab": {}
      },
      "source": [
        "def index_sort(list_var):\n",
        "    length = len(list_var)\n",
        "    list_index = list(range(0, length))\n",
        "    \n",
        "    x = list_var\n",
        "    for i in range(length):\n",
        "        for j in range(length):\n",
        "            if x[list_index[i]] > x[list_index[j]]:\n",
        "                # Swap\n",
        "                temp = list_index[i]\n",
        "                list_index[i] = list_index[j]\n",
        "                list_index[j] = temp\n",
        "\n",
        "    return list_index    "
      ],
      "execution_count": 11,
      "outputs": []
    },
    {
      "cell_type": "code",
      "metadata": {
        "id": "bVM559IjLYdx",
        "colab_type": "code",
        "colab": {}
      },
      "source": [
        "def bot_response(user_input):\n",
        "    user_input = user_input.lower()\n",
        "    sentence_list.append(user_input)\n",
        "    bot_response = ''\n",
        "    cm = CountVectorizer().fit_transform(sentence_list)\n",
        "    similarity_score = cosine_similarity(cm[-1], cm)\n",
        "    similarity_score_list = similarity_score.flatten()\n",
        "    index = index_sort(similarity_score_list)\n",
        "    index = index[1:]\n",
        "\n",
        "    response_flag = 0\n",
        "    j = 0\n",
        "\n",
        "    for i in range(len(index)):\n",
        "        if similarity_score_list[index[i]] > 0.0:\n",
        "            bot_response = bot_response +' '+ sentence_list[index[i]]\n",
        "            response_flag = 1\n",
        "        j = j + 1\n",
        "        if j > 2:\n",
        "            break\n",
        "        \n",
        "    if response_flag == 0:\n",
        "        return bot_response+' '+'Please ask Chronic Related queries, I don''t undersand !'\n",
        "    sentence_list.remove(user_input)\n",
        "    return bot_response"
      ],
      "execution_count": 12,
      "outputs": []
    },
    {
      "cell_type": "code",
      "metadata": {
        "id": "kw4l2kjET5Fi",
        "colab_type": "code",
        "colab": {}
      },
      "source": [
        "# Chat with bot\n",
        "print(\"I am Doc Bot, I am here to help you about diseases and only relevant stuff, type 'exit' to quit!\")\n",
        "\n",
        "exit_list = ['exit', 'quit', 'bye', 'go away']\n",
        "\n",
        "while(True):\n",
        "    user_input = input()\n",
        "    if user_input.lower() in exit_list:\n",
        "        print(\"Doc Bot: Nice Meeting You !\")\n",
        "        break\n",
        "    else:\n",
        "        if greeting_response(user_input) != None:\n",
        "            print(greeting_response(user_input))\n",
        "        else:\n",
        "            print('Doc Bot: ' + bot_response(user_input))"
      ],
      "execution_count": null,
      "outputs": []
    }
  ]
}